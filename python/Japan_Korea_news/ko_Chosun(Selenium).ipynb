{
 "cells": [
  {
   "cell_type": "code",
   "execution_count": 1,
   "metadata": {},
   "outputs": [],
   "source": [
    "from selenium import webdriver\n",
    "from selenium.webdriver.common.desired_capabilities import DesiredCapabilities\n",
    "from selenium.webdriver.ie.options import Options\n",
    "from selenium.webdriver.support.ui import Select\n",
    "from selenium.webdriver.common.keys import Keys\n",
    "from selenium.webdriver.common.action_chains import ActionChains\n",
    "\n",
    "from selenium.webdriver.common.by import By\n",
    "from selenium.webdriver.support.ui import WebDriverWait\n",
    "from selenium.webdriver.support import expected_conditions as EC\n",
    "\n",
    "from apscheduler.schedulers.blocking import BlockingScheduler\n",
    "\n",
    "import pymysql\n",
    "from datetime import datetime, timedelta\n",
    "from google_trans_new import google_translator\n",
    "import time\n",
    "import random\n",
    "\n",
    "host = '10.55.23.101'\n",
    "port = 33060\n",
    "user = 'root'\n",
    "passwd = \"1234\"\n",
    "db = 'idap'\n",
    "\n",
    "showPrintMSG = 1 # 0:不呈現，1:呈現 debug mode\n",
    "archiveDate = 10\n",
    "web = 'chosun'\n",
    "language = 'ko'\n",
    "sleep_sec = 20\n",
    "lang_src=language\n",
    "lang_tgt='zh-tw'\n"
   ]
  },
  {
   "cell_type": "code",
   "execution_count": 101,
   "metadata": {},
   "outputs": [],
   "source": [
    "# step 1. 取得4大類新聞url, 20210215\n",
    "# politics, national, industry, international\n",
    "def chosun_1(archiveDate = 10) :\n",
    "    if showPrintMSG :\n",
    "        print('start chosun_1 ',datetime.now().strftime(\"%Y/%m/%d %H:%M:%S\"))\n",
    "    conn = pymysql.connect(host=host, port=port, user=user, passwd=passwd, db=db)\n",
    "    cur = conn.cursor()    \n",
    "\n",
    "    tagList = {'politics':'politics', 'national':'national', 'industry':'economy', 'international':'international'}\n",
    "    baseUrl = 'https://www.chosun.com/'\n",
    "    deleteFromDate = datetime.strftime(datetime.now() - timedelta(archiveDate), '%Y%m%d')\n",
    "\n",
    "    option = webdriver.ChromeOptions()\n",
    "    #option.add_argument(\"--test-type\");\n",
    "    option.add_argument(\"--disable-gpu\");\n",
    "    #option.add_argument(\"--no-first-run\");\n",
    "    #option.add_argument(\"--no-default-browser-check\");\n",
    "    #option.add_argument(\"--ignore-certificate-errors\");\n",
    "    option.add_argument(\"--start-maximized\");  \n",
    "    \n",
    "    #if not showPrintMSG :\n",
    "    #    option.add_argument('--headless') \n",
    "    driver = webdriver.Chrome(r\"D:\\chromedriver.exe\",chrome_options=option)\n",
    "     \n",
    "     \n",
    "    for tag in tagList :\n",
    "        if showPrintMSG :\n",
    "            print(tag)\n",
    "        driver.get(baseUrl+tagList[tag])    \n",
    "        #driver.implicitly_wait(30)        \n",
    "        #WebDriverWait(driver, 1000).until(EC.presence_of_element_located((By.ID, \"fusion-template-script\")))\n",
    "        \n",
    "        for i in range(1,16) :\n",
    "            creationdate = datetime.now()\n",
    "            try :\n",
    "                j = '1'\n",
    "                url = driver.find_element_by_xpath(\"//*[@id='main']/div[4]/section/div/div/div[2]/div[\"+str(i)+\"]/div/div/div/div[1]/div[\"+j+\"]/div[1]/a\").get_attribute('href')\n",
    "                title = driver.find_element_by_xpath(\"//*[@id='main']/div[4]/section/div/div/div[2]/div[\"+str(i)+\"]/div/div/div/div[1]/div[\"+j+\"]/div[1]/a\").text\n",
    "            except Exception as e:        \n",
    "                j = '2'\n",
    "                url = driver.find_element_by_xpath(\"//*[@id='main']/div[4]/section/div/div/div[2]/div[\"+str(i)+\"]/div/div/div/div[1]/div[\"+j+\"]/div[1]/a\").get_attribute('href')\n",
    "                title = driver.find_element_by_xpath(\"//*[@id='main']/div[4]/section/div/div/div[2]/div[\"+str(i)+\"]/div/div/div/div[1]/div[\"+j+\"]/div[1]/a\").text\n",
    "            urlTmp = url.split('/')\n",
    "            publishdate = urlTmp[len(urlTmp)-5]+urlTmp[len(urlTmp)-4]+urlTmp[len(urlTmp)-3]\n",
    "            if showPrintMSG :\n",
    "                print(i,title,',',publishdate,',',url)\n",
    "                \n",
    "            if int(publishdate) > int(deleteFromDate) :\n",
    "                cur.execute('select count(1) from news_daily_source where url=%s',(url))\n",
    "                if cur.fetchone()[0] == 0 :\n",
    "                    title_tw = gl_translator(title, lang_src, lang_tgt)\n",
    "                    if showPrintMSG :\n",
    "                        print(i,title_tw)\n",
    "                    cur.execute('insert into news_daily_source(web, title, title_tw, publishdate, url, creationdate,language,tag) SELECT * FROM (SELECT %s, %s, %s, %s, %s, %s, %s, %s) AS tmp WHERE NOT EXISTS (SELECT url FROM news_daily_source WHERE url = %s) LIMIT 1',(web, title, title_tw, publishdate, url, creationdate,language,tag, url))\n",
    "                    cur.execute('commit')\n",
    "                    time.sleep(sleep_sec)    \n",
    "    cur.close()\n",
    "    conn.close()    \n",
    "    driver.close()\n",
    "    \n",
    "# step 2. 取得全文並翻譯, 20210217\n",
    "def chosun_2() :\n",
    "    \n",
    "    conn = pymysql.connect(host=host, port=port, user=user, passwd=passwd, db=db)\n",
    "    cur = conn.cursor()\n",
    "    cur1 = conn.cursor()\n",
    "\n",
    "    option = webdriver.ChromeOptions()\n",
    "    option.add_argument(\"--disable-gpu\");\n",
    "    option.add_argument(\"--start-maximized\");    \n",
    "    driver = webdriver.Chrome(r\"D:\\chromedriver.exe\",chrome_options=option)\n",
    "    cur.execute('select url from news_daily_source where web=\"chosun\" and status=0 and content is null')\n",
    "    for r in cur :\n",
    "        url = r[0]   \n",
    "        if showPrintMSG :\n",
    "            print(url)\n",
    "        driver.get(url)\n",
    "        try :\n",
    "            WebDriverWait(driver, 10).until(EC.visibility_of_element_located((By.CLASS_NAME, \"article-body\")))\n",
    "            content = driver.find_element_by_class_name('article-body').text\n",
    "            content_tw =  gl_translator(content, lang_src, lang_tgt)\n",
    "        except Exception as e:\n",
    "            continue\n",
    "            \n",
    "        cur1.execute('update news_daily_source set content=%s,content_tw=%s where url=%s',(content,content_tw,url))\n",
    "        cur1.execute('commit')\n",
    "        time.sleep(sleep_sec)\n",
    "    cur.close()\n",
    "    cur1.close()\n",
    "    conn.close()    \n",
    "    driver.close()    \n",
    "\n",
    "def delete_old_data(archiveDate = 10) :\n",
    "    conn = pymysql . connect ( host = host , port = port , user = user , passwd = passwd , db = db ) \n",
    "    cur = conn . cursor ()    \n",
    "    deleteFromDate = datetime.strftime(datetime.now() - timedelta(archiveDate), '%Y%m%d')\n",
    "    cur.execute(\"delete from news_daily_source WHERE publishdate<=%s\",(deleteFromDate))\n",
    "    cur.execute(\"commit\")\n",
    "\n",
    "def gl_translator(text, lang_src, lang_tgt) :\n",
    "    url_suffix_list = ['ac','ad','ae','al','am','as','at','az','ba','be','bf','bg','bi','bj','bs','bt','by','ca','cat','cc','cd','cf','cg','ch','ci','cl','cm','cn','co.ao','co.bw','co.ck','co.cr','co.id','co.il','co.in','co.jp','co.ke','co.kr','co.ls','co.ma','co.mz','co.nz','co.th','co.tz','co.ug','co.uk','co.uz','co.ve','co.vi','co.za','co.zm','co.zw','co','com.af','com.ag','com.ai','com.ar','com.au','com.bd','com.bh','com.bn','com.bo','com.br','com.bz','com.co','com.cu','com.cy','com.do','com.ec','com.eg','com.et','com.fj','com.gh','com.gi','com.gt','com.hk','com.jm','com.kh','com.kw','com.lb','com.lc','com.ly','com.mm','com.mt','com.mx','com.my','com.na','com.ng','com.ni','com.np','com.om','com.pa','com.pe','com.pg','com.ph','com.pk','com.pr','com.py','com.qa','com.sa','com.sb','com.sg','com.sl','com.sv','com.tj','com.tr','com.tw','com.ua','com.uy','com.vc','com.vn','com','cv','cx','cz','de','dj','dk','dm','dz','ee','es','eu','fi','fm','fr','ga','ge','gf','gg','gl','gm','gp','gr','gy','hn','hr','ht','hu','ie','im','io','iq','is','it','je','jo','kg','ki','kz','la','li','lk','lt','lu','lv','md','me','mg','mk','ml','mn','ms','mu','mv','mw','ne','nf','nl','no','nr','nu','pl','pn','ps','pt','ro','rs','ru','rw','sc','se','sh','si','sk','sm','sn','so','sr','st','td','tg','tk','tl','tm','tn','to','tt','us','vg','vu','ws']\n",
    "    isSuccess = False\n",
    "    url_suffix_inx = random.randint(0, len(url_suffix_list)-1)\n",
    "    content_tw = ''\n",
    "    while isSuccess == False :\n",
    "        try :\n",
    "            translator = google_translator(url_suffix=url_suffix_list[url_suffix_inx])        \n",
    "            content_tw = translator.translate(text, lang_src=lang_src, lang_tgt=lang_tgt)\n",
    "            isSuccess = True\n",
    "        except Exception as e:\n",
    "            url_suffix_inx = random.randint(0, len(url_suffix_list)-1)\n",
    "    return content_tw\n",
    "\n",
    "def chosun_etl():\n",
    "    delete_old_data()\n",
    "    chosun_1()\n",
    "    chosun_2()   "
   ]
  },
  {
   "cell_type": "code",
   "execution_count": 28,
   "metadata": {},
   "outputs": [
    {
     "name": "stderr",
     "output_type": "stream",
     "text": [
      "C:\\Users\\jacob.liang\\AppData\\Local\\Continuum\\anaconda3\\lib\\site-packages\\ipykernel_launcher.py:8: DeprecationWarning: use options instead of chrome_options\n",
      "  \n"
     ]
    }
   ],
   "source": [
    "scheduler = BlockingScheduler() \n",
    "#scheduler.add_job(news_ner, 'interval', seconds=10800) #3 hours \n",
    "#scheduler.add_job(news_etl, 'cron', hour='*/1', minute=20)\n",
    "scheduler.add_job(chosun_etl, 'cron', hour='7-20,23,3,6', minute=40)\n",
    "scheduler.start()"
   ]
  },
  {
   "cell_type": "code",
   "execution_count": 77,
   "metadata": {},
   "outputs": [
    {
     "name": "stderr",
     "output_type": "stream",
     "text": [
      "C:\\Users\\jacob.liang\\AppData\\Local\\Continuum\\anaconda3\\lib\\site-packages\\ipykernel_launcher.py:18: DeprecationWarning: use options instead of chrome_options\n"
     ]
    },
    {
     "ename": "NoSuchElementException",
     "evalue": "Message: no such element: Unable to locate element: {\"method\":\"xpath\",\"selector\":\"//*[@id='main']/div[4]/section/div/div/div[2]/div[1]/div/div/div/div[1]/div[2]/div[1]/a\"}\n  (Session info: headless chrome=85.0.4183.83)\n  (Driver info: chromedriver=2.43.600210 (68dcf5eebde37173d4027fa8635e332711d2874a),platform=Windows NT 10.0.17134 x86_64)\n",
     "output_type": "error",
     "traceback": [
      "\u001b[1;31m---------------------------------------------------------------------------\u001b[0m",
      "\u001b[1;31mNoSuchElementException\u001b[0m                    Traceback (most recent call last)",
      "\u001b[1;32m<ipython-input-76-12c168c00606>\u001b[0m in \u001b[0;36mchosun_1\u001b[1;34m()\u001b[0m\n\u001b[0;32m     31\u001b[0m                 \u001b[0mj\u001b[0m \u001b[1;33m=\u001b[0m \u001b[1;34m'1'\u001b[0m\u001b[1;33m\u001b[0m\u001b[0m\n\u001b[1;32m---> 32\u001b[1;33m                 \u001b[0murl\u001b[0m \u001b[1;33m=\u001b[0m \u001b[0mdriver\u001b[0m\u001b[1;33m.\u001b[0m\u001b[0mfind_element_by_xpath\u001b[0m\u001b[1;33m(\u001b[0m\u001b[1;34m\"//*[@id='main']/div[4]/section/div/div/div[2]/div[\"\u001b[0m\u001b[1;33m+\u001b[0m\u001b[0mstr\u001b[0m\u001b[1;33m(\u001b[0m\u001b[0mi\u001b[0m\u001b[1;33m)\u001b[0m\u001b[1;33m+\u001b[0m\u001b[1;34m\"]/div/div/div/div[1]/div[\"\u001b[0m\u001b[1;33m+\u001b[0m\u001b[0mj\u001b[0m\u001b[1;33m+\u001b[0m\u001b[1;34m\"]/div[1]/a\"\u001b[0m\u001b[1;33m)\u001b[0m\u001b[1;33m.\u001b[0m\u001b[0mget_attribute\u001b[0m\u001b[1;33m(\u001b[0m\u001b[1;34m'href'\u001b[0m\u001b[1;33m)\u001b[0m\u001b[1;33m\u001b[0m\u001b[0m\n\u001b[0m\u001b[0;32m     33\u001b[0m                 \u001b[0mtitle\u001b[0m \u001b[1;33m=\u001b[0m \u001b[0mdriver\u001b[0m\u001b[1;33m.\u001b[0m\u001b[0mfind_element_by_xpath\u001b[0m\u001b[1;33m(\u001b[0m\u001b[1;34m\"//*[@id='main']/div[4]/section/div/div/div[2]/div[\"\u001b[0m\u001b[1;33m+\u001b[0m\u001b[0mstr\u001b[0m\u001b[1;33m(\u001b[0m\u001b[0mi\u001b[0m\u001b[1;33m)\u001b[0m\u001b[1;33m+\u001b[0m\u001b[1;34m\"]/div/div/div/div[1]/div[\"\u001b[0m\u001b[1;33m+\u001b[0m\u001b[0mj\u001b[0m\u001b[1;33m+\u001b[0m\u001b[1;34m\"]/div[1]/a\"\u001b[0m\u001b[1;33m)\u001b[0m\u001b[1;33m.\u001b[0m\u001b[0mtext\u001b[0m\u001b[1;33m\u001b[0m\u001b[0m\n",
      "\u001b[1;32m~\\AppData\\Local\\Continuum\\anaconda3\\lib\\site-packages\\selenium\\webdriver\\remote\\webdriver.py\u001b[0m in \u001b[0;36mfind_element_by_xpath\u001b[1;34m(self, xpath)\u001b[0m\n\u001b[0;32m    393\u001b[0m         \"\"\"\n\u001b[1;32m--> 394\u001b[1;33m         \u001b[1;32mreturn\u001b[0m \u001b[0mself\u001b[0m\u001b[1;33m.\u001b[0m\u001b[0mfind_element\u001b[0m\u001b[1;33m(\u001b[0m\u001b[0mby\u001b[0m\u001b[1;33m=\u001b[0m\u001b[0mBy\u001b[0m\u001b[1;33m.\u001b[0m\u001b[0mXPATH\u001b[0m\u001b[1;33m,\u001b[0m \u001b[0mvalue\u001b[0m\u001b[1;33m=\u001b[0m\u001b[0mxpath\u001b[0m\u001b[1;33m)\u001b[0m\u001b[1;33m\u001b[0m\u001b[0m\n\u001b[0m\u001b[0;32m    395\u001b[0m \u001b[1;33m\u001b[0m\u001b[0m\n",
      "\u001b[1;32m~\\AppData\\Local\\Continuum\\anaconda3\\lib\\site-packages\\selenium\\webdriver\\remote\\webdriver.py\u001b[0m in \u001b[0;36mfind_element\u001b[1;34m(self, by, value)\u001b[0m\n\u001b[0;32m    977\u001b[0m             \u001b[1;34m'using'\u001b[0m\u001b[1;33m:\u001b[0m \u001b[0mby\u001b[0m\u001b[1;33m,\u001b[0m\u001b[1;33m\u001b[0m\u001b[0m\n\u001b[1;32m--> 978\u001b[1;33m             'value': value})['value']\n\u001b[0m\u001b[0;32m    979\u001b[0m \u001b[1;33m\u001b[0m\u001b[0m\n",
      "\u001b[1;32m~\\AppData\\Local\\Continuum\\anaconda3\\lib\\site-packages\\selenium\\webdriver\\remote\\webdriver.py\u001b[0m in \u001b[0;36mexecute\u001b[1;34m(self, driver_command, params)\u001b[0m\n\u001b[0;32m    320\u001b[0m         \u001b[1;32mif\u001b[0m \u001b[0mresponse\u001b[0m\u001b[1;33m:\u001b[0m\u001b[1;33m\u001b[0m\u001b[0m\n\u001b[1;32m--> 321\u001b[1;33m             \u001b[0mself\u001b[0m\u001b[1;33m.\u001b[0m\u001b[0merror_handler\u001b[0m\u001b[1;33m.\u001b[0m\u001b[0mcheck_response\u001b[0m\u001b[1;33m(\u001b[0m\u001b[0mresponse\u001b[0m\u001b[1;33m)\u001b[0m\u001b[1;33m\u001b[0m\u001b[0m\n\u001b[0m\u001b[0;32m    322\u001b[0m             response['value'] = self._unwrap_value(\n",
      "\u001b[1;32m~\\AppData\\Local\\Continuum\\anaconda3\\lib\\site-packages\\selenium\\webdriver\\remote\\errorhandler.py\u001b[0m in \u001b[0;36mcheck_response\u001b[1;34m(self, response)\u001b[0m\n\u001b[0;32m    241\u001b[0m             \u001b[1;32mraise\u001b[0m \u001b[0mexception_class\u001b[0m\u001b[1;33m(\u001b[0m\u001b[0mmessage\u001b[0m\u001b[1;33m,\u001b[0m \u001b[0mscreen\u001b[0m\u001b[1;33m,\u001b[0m \u001b[0mstacktrace\u001b[0m\u001b[1;33m,\u001b[0m \u001b[0malert_text\u001b[0m\u001b[1;33m)\u001b[0m\u001b[1;33m\u001b[0m\u001b[0m\n\u001b[1;32m--> 242\u001b[1;33m         \u001b[1;32mraise\u001b[0m \u001b[0mexception_class\u001b[0m\u001b[1;33m(\u001b[0m\u001b[0mmessage\u001b[0m\u001b[1;33m,\u001b[0m \u001b[0mscreen\u001b[0m\u001b[1;33m,\u001b[0m \u001b[0mstacktrace\u001b[0m\u001b[1;33m)\u001b[0m\u001b[1;33m\u001b[0m\u001b[0m\n\u001b[0m\u001b[0;32m    243\u001b[0m \u001b[1;33m\u001b[0m\u001b[0m\n",
      "\u001b[1;31mNoSuchElementException\u001b[0m: Message: no such element: Unable to locate element: {\"method\":\"xpath\",\"selector\":\"//*[@id='main']/div[4]/section/div/div/div[2]/div[1]/div/div/div/div[1]/div[1]/div[1]/a\"}\n  (Session info: headless chrome=85.0.4183.83)\n  (Driver info: chromedriver=2.43.600210 (68dcf5eebde37173d4027fa8635e332711d2874a),platform=Windows NT 10.0.17134 x86_64)\n",
      "\nDuring handling of the above exception, another exception occurred:\n",
      "\u001b[1;31mNoSuchElementException\u001b[0m                    Traceback (most recent call last)",
      "\u001b[1;32m<ipython-input-77-044dc44ce984>\u001b[0m in \u001b[0;36m<module>\u001b[1;34m()\u001b[0m\n\u001b[1;32m----> 1\u001b[1;33m \u001b[0mchosun_1\u001b[0m\u001b[1;33m(\u001b[0m\u001b[1;33m)\u001b[0m\u001b[1;33m\u001b[0m\u001b[0m\n\u001b[0m",
      "\u001b[1;32m<ipython-input-76-12c168c00606>\u001b[0m in \u001b[0;36mchosun_1\u001b[1;34m()\u001b[0m\n\u001b[0;32m     34\u001b[0m             \u001b[1;32mexcept\u001b[0m \u001b[0mException\u001b[0m \u001b[1;32mas\u001b[0m \u001b[0me\u001b[0m\u001b[1;33m:\u001b[0m\u001b[1;33m\u001b[0m\u001b[0m\n\u001b[0;32m     35\u001b[0m                 \u001b[0mj\u001b[0m \u001b[1;33m=\u001b[0m \u001b[1;34m'2'\u001b[0m\u001b[1;33m\u001b[0m\u001b[0m\n\u001b[1;32m---> 36\u001b[1;33m                 \u001b[0murl\u001b[0m \u001b[1;33m=\u001b[0m \u001b[0mdriver\u001b[0m\u001b[1;33m.\u001b[0m\u001b[0mfind_element_by_xpath\u001b[0m\u001b[1;33m(\u001b[0m\u001b[1;34m\"//*[@id='main']/div[4]/section/div/div/div[2]/div[\"\u001b[0m\u001b[1;33m+\u001b[0m\u001b[0mstr\u001b[0m\u001b[1;33m(\u001b[0m\u001b[0mi\u001b[0m\u001b[1;33m)\u001b[0m\u001b[1;33m+\u001b[0m\u001b[1;34m\"]/div/div/div/div[1]/div[\"\u001b[0m\u001b[1;33m+\u001b[0m\u001b[0mj\u001b[0m\u001b[1;33m+\u001b[0m\u001b[1;34m\"]/div[1]/a\"\u001b[0m\u001b[1;33m)\u001b[0m\u001b[1;33m.\u001b[0m\u001b[0mget_attribute\u001b[0m\u001b[1;33m(\u001b[0m\u001b[1;34m'href'\u001b[0m\u001b[1;33m)\u001b[0m\u001b[1;33m\u001b[0m\u001b[0m\n\u001b[0m\u001b[0;32m     37\u001b[0m                 \u001b[0mtitle\u001b[0m \u001b[1;33m=\u001b[0m \u001b[0mdriver\u001b[0m\u001b[1;33m.\u001b[0m\u001b[0mfind_element_by_xpath\u001b[0m\u001b[1;33m(\u001b[0m\u001b[1;34m\"//*[@id='main']/div[4]/section/div/div/div[2]/div[\"\u001b[0m\u001b[1;33m+\u001b[0m\u001b[0mstr\u001b[0m\u001b[1;33m(\u001b[0m\u001b[0mi\u001b[0m\u001b[1;33m)\u001b[0m\u001b[1;33m+\u001b[0m\u001b[1;34m\"]/div/div/div/div[1]/div[\"\u001b[0m\u001b[1;33m+\u001b[0m\u001b[0mj\u001b[0m\u001b[1;33m+\u001b[0m\u001b[1;34m\"]/div[1]/a\"\u001b[0m\u001b[1;33m)\u001b[0m\u001b[1;33m.\u001b[0m\u001b[0mtext\u001b[0m\u001b[1;33m\u001b[0m\u001b[0m\n\u001b[0;32m     38\u001b[0m             \u001b[0murlTmp\u001b[0m \u001b[1;33m=\u001b[0m \u001b[0murl\u001b[0m\u001b[1;33m.\u001b[0m\u001b[0msplit\u001b[0m\u001b[1;33m(\u001b[0m\u001b[1;34m'/'\u001b[0m\u001b[1;33m)\u001b[0m\u001b[1;33m\u001b[0m\u001b[0m\n",
      "\u001b[1;32m~\\AppData\\Local\\Continuum\\anaconda3\\lib\\site-packages\\selenium\\webdriver\\remote\\webdriver.py\u001b[0m in \u001b[0;36mfind_element_by_xpath\u001b[1;34m(self, xpath)\u001b[0m\n\u001b[0;32m    392\u001b[0m             \u001b[0melement\u001b[0m \u001b[1;33m=\u001b[0m \u001b[0mdriver\u001b[0m\u001b[1;33m.\u001b[0m\u001b[0mfind_element_by_xpath\u001b[0m\u001b[1;33m(\u001b[0m\u001b[1;34m'//div/td[1]'\u001b[0m\u001b[1;33m)\u001b[0m\u001b[1;33m\u001b[0m\u001b[0m\n\u001b[0;32m    393\u001b[0m         \"\"\"\n\u001b[1;32m--> 394\u001b[1;33m         \u001b[1;32mreturn\u001b[0m \u001b[0mself\u001b[0m\u001b[1;33m.\u001b[0m\u001b[0mfind_element\u001b[0m\u001b[1;33m(\u001b[0m\u001b[0mby\u001b[0m\u001b[1;33m=\u001b[0m\u001b[0mBy\u001b[0m\u001b[1;33m.\u001b[0m\u001b[0mXPATH\u001b[0m\u001b[1;33m,\u001b[0m \u001b[0mvalue\u001b[0m\u001b[1;33m=\u001b[0m\u001b[0mxpath\u001b[0m\u001b[1;33m)\u001b[0m\u001b[1;33m\u001b[0m\u001b[0m\n\u001b[0m\u001b[0;32m    395\u001b[0m \u001b[1;33m\u001b[0m\u001b[0m\n\u001b[0;32m    396\u001b[0m     \u001b[1;32mdef\u001b[0m \u001b[0mfind_elements_by_xpath\u001b[0m\u001b[1;33m(\u001b[0m\u001b[0mself\u001b[0m\u001b[1;33m,\u001b[0m \u001b[0mxpath\u001b[0m\u001b[1;33m)\u001b[0m\u001b[1;33m:\u001b[0m\u001b[1;33m\u001b[0m\u001b[0m\n",
      "\u001b[1;32m~\\AppData\\Local\\Continuum\\anaconda3\\lib\\site-packages\\selenium\\webdriver\\remote\\webdriver.py\u001b[0m in \u001b[0;36mfind_element\u001b[1;34m(self, by, value)\u001b[0m\n\u001b[0;32m    976\u001b[0m         return self.execute(Command.FIND_ELEMENT, {\n\u001b[0;32m    977\u001b[0m             \u001b[1;34m'using'\u001b[0m\u001b[1;33m:\u001b[0m \u001b[0mby\u001b[0m\u001b[1;33m,\u001b[0m\u001b[1;33m\u001b[0m\u001b[0m\n\u001b[1;32m--> 978\u001b[1;33m             'value': value})['value']\n\u001b[0m\u001b[0;32m    979\u001b[0m \u001b[1;33m\u001b[0m\u001b[0m\n\u001b[0;32m    980\u001b[0m     \u001b[1;32mdef\u001b[0m \u001b[0mfind_elements\u001b[0m\u001b[1;33m(\u001b[0m\u001b[0mself\u001b[0m\u001b[1;33m,\u001b[0m \u001b[0mby\u001b[0m\u001b[1;33m=\u001b[0m\u001b[0mBy\u001b[0m\u001b[1;33m.\u001b[0m\u001b[0mID\u001b[0m\u001b[1;33m,\u001b[0m \u001b[0mvalue\u001b[0m\u001b[1;33m=\u001b[0m\u001b[1;32mNone\u001b[0m\u001b[1;33m)\u001b[0m\u001b[1;33m:\u001b[0m\u001b[1;33m\u001b[0m\u001b[0m\n",
      "\u001b[1;32m~\\AppData\\Local\\Continuum\\anaconda3\\lib\\site-packages\\selenium\\webdriver\\remote\\webdriver.py\u001b[0m in \u001b[0;36mexecute\u001b[1;34m(self, driver_command, params)\u001b[0m\n\u001b[0;32m    319\u001b[0m         \u001b[0mresponse\u001b[0m \u001b[1;33m=\u001b[0m \u001b[0mself\u001b[0m\u001b[1;33m.\u001b[0m\u001b[0mcommand_executor\u001b[0m\u001b[1;33m.\u001b[0m\u001b[0mexecute\u001b[0m\u001b[1;33m(\u001b[0m\u001b[0mdriver_command\u001b[0m\u001b[1;33m,\u001b[0m \u001b[0mparams\u001b[0m\u001b[1;33m)\u001b[0m\u001b[1;33m\u001b[0m\u001b[0m\n\u001b[0;32m    320\u001b[0m         \u001b[1;32mif\u001b[0m \u001b[0mresponse\u001b[0m\u001b[1;33m:\u001b[0m\u001b[1;33m\u001b[0m\u001b[0m\n\u001b[1;32m--> 321\u001b[1;33m             \u001b[0mself\u001b[0m\u001b[1;33m.\u001b[0m\u001b[0merror_handler\u001b[0m\u001b[1;33m.\u001b[0m\u001b[0mcheck_response\u001b[0m\u001b[1;33m(\u001b[0m\u001b[0mresponse\u001b[0m\u001b[1;33m)\u001b[0m\u001b[1;33m\u001b[0m\u001b[0m\n\u001b[0m\u001b[0;32m    322\u001b[0m             response['value'] = self._unwrap_value(\n\u001b[0;32m    323\u001b[0m                 response.get('value', None))\n",
      "\u001b[1;32m~\\AppData\\Local\\Continuum\\anaconda3\\lib\\site-packages\\selenium\\webdriver\\remote\\errorhandler.py\u001b[0m in \u001b[0;36mcheck_response\u001b[1;34m(self, response)\u001b[0m\n\u001b[0;32m    240\u001b[0m                 \u001b[0malert_text\u001b[0m \u001b[1;33m=\u001b[0m \u001b[0mvalue\u001b[0m\u001b[1;33m[\u001b[0m\u001b[1;34m'alert'\u001b[0m\u001b[1;33m]\u001b[0m\u001b[1;33m.\u001b[0m\u001b[0mget\u001b[0m\u001b[1;33m(\u001b[0m\u001b[1;34m'text'\u001b[0m\u001b[1;33m)\u001b[0m\u001b[1;33m\u001b[0m\u001b[0m\n\u001b[0;32m    241\u001b[0m             \u001b[1;32mraise\u001b[0m \u001b[0mexception_class\u001b[0m\u001b[1;33m(\u001b[0m\u001b[0mmessage\u001b[0m\u001b[1;33m,\u001b[0m \u001b[0mscreen\u001b[0m\u001b[1;33m,\u001b[0m \u001b[0mstacktrace\u001b[0m\u001b[1;33m,\u001b[0m \u001b[0malert_text\u001b[0m\u001b[1;33m)\u001b[0m\u001b[1;33m\u001b[0m\u001b[0m\n\u001b[1;32m--> 242\u001b[1;33m         \u001b[1;32mraise\u001b[0m \u001b[0mexception_class\u001b[0m\u001b[1;33m(\u001b[0m\u001b[0mmessage\u001b[0m\u001b[1;33m,\u001b[0m \u001b[0mscreen\u001b[0m\u001b[1;33m,\u001b[0m \u001b[0mstacktrace\u001b[0m\u001b[1;33m)\u001b[0m\u001b[1;33m\u001b[0m\u001b[0m\n\u001b[0m\u001b[0;32m    243\u001b[0m \u001b[1;33m\u001b[0m\u001b[0m\n\u001b[0;32m    244\u001b[0m     \u001b[1;32mdef\u001b[0m \u001b[0m_value_or_default\u001b[0m\u001b[1;33m(\u001b[0m\u001b[0mself\u001b[0m\u001b[1;33m,\u001b[0m \u001b[0mobj\u001b[0m\u001b[1;33m,\u001b[0m \u001b[0mkey\u001b[0m\u001b[1;33m,\u001b[0m \u001b[0mdefault\u001b[0m\u001b[1;33m)\u001b[0m\u001b[1;33m:\u001b[0m\u001b[1;33m\u001b[0m\u001b[0m\n",
      "\u001b[1;31mNoSuchElementException\u001b[0m: Message: no such element: Unable to locate element: {\"method\":\"xpath\",\"selector\":\"//*[@id='main']/div[4]/section/div/div/div[2]/div[1]/div/div/div/div[1]/div[2]/div[1]/a\"}\n  (Session info: headless chrome=85.0.4183.83)\n  (Driver info: chromedriver=2.43.600210 (68dcf5eebde37173d4027fa8635e332711d2874a),platform=Windows NT 10.0.17134 x86_64)\n"
     ]
    }
   ],
   "source": []
  },
  {
   "cell_type": "code",
   "execution_count": null,
   "metadata": {},
   "outputs": [],
   "source": []
  },
  {
   "cell_type": "code",
   "execution_count": null,
   "metadata": {},
   "outputs": [],
   "source": []
  },
  {
   "cell_type": "code",
   "execution_count": 37,
   "metadata": {},
   "outputs": [],
   "source": [
    "conn = pymysql.connect(host=host, port=port, user=user, passwd=passwd, db=db)\n",
    "cur = conn.cursor()\n",
    "cur1 = conn.cursor()\n",
    "translator = google_translator() \n",
    "cur.execute('select url,title from news_daily_source where web=\"chosun\" and status=0 and content is not null')\n",
    "for r in cur :\n",
    "    url = r[0]\n",
    "    title = r[1]\n",
    "    title_tw = translator.translate(title,lang_src='ko', lang_tgt='zh-tw')\n",
    "    cur1.execute('update news_daily_source set title_tw=%s where url=%s',(title_tw,url))\n",
    "    cur1.execute('commit')\n",
    "    "
   ]
  },
  {
   "cell_type": "code",
   "execution_count": 46,
   "metadata": {},
   "outputs": [
    {
     "data": {
      "text/plain": [
       "False"
      ]
     },
     "execution_count": 46,
     "metadata": {},
     "output_type": "execute_result"
    }
   ],
   "source": [
    "showPrintMSG = True\n",
    "not showPrintMSG "
   ]
  },
  {
   "cell_type": "code",
   "execution_count": 11,
   "metadata": {
    "collapsed": true
   },
   "outputs": [
    {
     "name": "stderr",
     "output_type": "stream",
     "text": [
      "C:\\Users\\jacob.liang\\AppData\\Local\\Continuum\\anaconda3\\lib\\site-packages\\ipykernel_launcher.py:11: DeprecationWarning: use options instead of chrome_options\n",
      "  # This is added back by InteractiveShellApp.init_path()\n"
     ]
    },
    {
     "name": "stdout",
     "output_type": "stream",
     "text": [
      "1 그게 왜 커피 머신에서 나와 , 이태리 사람들 입이 떡 벌어졌다 , 20210217 , https://www.chosun.com/economy/startup_story/2021/02/17/K7PDEREG5ZBOPI7LQHJGBED54Q/\n",
      "2 ‘변이'와 ‘변이'가 만났다, 독성 강한 수퍼 코로나 나오나 , 20210217 , https://www.chosun.com/economy/science/2021/02/17/4UAJQQK2HRG4ROUCKNPXLQUZA4/\n",
      "3 대출이 월세보다 싸도 집 안산다...일본만 집값 잠잠한 이유 , 20210216 , https://www.chosun.com/economy/real_estate/2021/02/16/WJUOBS2A7VEPDOG7UBPDFAA7DQ/\n",
      "4 현대車, 잇단 전기차 화재… 코나 배터리 전량 교체로 가닥 , 20210217 , https://www.chosun.com/economy/auto/2021/02/17/W7VX5GPB4BADLIXEUGMYUM73SA/\n",
      "5 금보다 비트코인... 1년새 850% 급등, 5만달러도 뚫었다 , 20210216 , https://www.chosun.com/economy/2021/02/16/DU7BMJVJB5DHHA7FXIPNJ2L7JQ/\n",
      "6 홍남기 “서울 아파트 큰폭 조정 있었다, 냉철하게 시장 봐야” , 20210217 , https://www.chosun.com/economy/2021/02/17/KIG4VIYFFNGD5AVUNYN4JP63SY/\n",
      "7 포스코가 만든 수소로 현대차 달린다 , 20210217 , https://www.chosun.com/economy/economy_general/2021/02/17/7PVJBXV6HFE7HPS4BIUZFDCBRA/\n",
      "8 “물량 좀 풀어줘!” 머스크가 콕 찍었다, ‘도지코인'이 뭐길래 , 20210216 , https://www.chosun.com/economy/int_economy/2021/02/16/O2WZ4ZM34ZAGDHGSBVSYB44ZCQ/\n",
      "9 공기업, 신규채용 30% 줄이고 퇴직자 자회사 재취업 2배로 , 20210217 , https://www.chosun.com/economy/economy_general/2021/02/17/KOQUBU6Z7FG6ZCXQQ56JMAXTN4/\n",
      "10 머스크의 클럽하우스 비밀대화, 시진핑이 엿들을 수 있다? , 20210216 , https://www.chosun.com/economy/tech_it/2021/02/16/MZIO52SMMJE2JJON3HLVOTL3TI/\n",
      "11 “새 아파트 입주 많은 ‘서연고안과’… 올해 가격 많이 오를 유망 투자처” , 20210217 , https://www.chosun.com/economy/real_estate/2021/02/17/ZYGZS6GRHFCYVIKPZSRPX7ZCAY/\n",
      "12 5월 공매도 재개 기다리는 돈 7兆... 증시 쇼트350 주의보 , 20210216 , https://www.chosun.com/economy/stock-finance/2021/02/16/YCCSMKYGS5DRVFMYXHWILD2TAY/\n",
      "13 망하기 십상이라던 치킨집의 반전, 작년 사상 최대 매출 날았다 , 20210216 , https://www.chosun.com/economy/2021/02/16/BQOPE7ZNGREWJHXH7LCO72TQWM/\n",
      "14 걸어서 거여역… 다주택 중과세 대상 아닙니다 , 20210217 , https://www.chosun.com/economy/real_estate/2021/02/17/WXSAKQXH2FC6LD523RKV4NTPPY/\n",
      "15 “쿠팡, 한국서 벌고 미국행” vs “더 큰 투자 끌어오는 것” , 20210216 , https://www.chosun.com/economy/industry-company/2021/02/16/LC6CC6AXZJFABAGUCHXTQP2D3Q/\n"
     ]
    }
   ],
   "source": [
    "# Economy, 20210215\n",
    "conn = pymysql.connect(host=host, port=port, user=user, passwd=passwd, db=db)\n",
    "cur = conn.cursor()\n",
    "web = 'chosun'\n",
    "language = 'ko'\n",
    "tag = 'industry'\n",
    "targetUrl = 'https://www.chosun.com/economy/'\n",
    "\n",
    "option = webdriver.ChromeOptions()\n",
    "option.add_argument(\"--start-maximized\")\n",
    "#option.add_argument('headless') \n",
    "driver = webdriver.Chrome(r\"D:\\chromedriver.exe\",chrome_options=option)\n",
    "driver.get(targetUrl) \n",
    "creationdate = datetime.now()\n",
    "\n",
    "for i in range(1,16) :\n",
    "    try :\n",
    "        j = '1'\n",
    "        url = driver.find_element_by_xpath(\"//*[@id='main']/div[4]/section/div/div/div[2]/div[\"+str(i)+\"]/div/div/div/div[1]/div[\"+j+\"]/div[1]/a\").get_attribute('href')\n",
    "        title = driver.find_element_by_xpath(\"//*[@id='main']/div[4]/section/div/div/div[2]/div[\"+str(i)+\"]/div/div/div/div[1]/div[\"+j+\"]/div[1]/a\").text\n",
    "    except Exception as e:        \n",
    "        j = '2'\n",
    "        url = driver.find_element_by_xpath(\"//*[@id='main']/div[4]/section/div/div/div[2]/div[\"+str(i)+\"]/div/div/div/div[1]/div[\"+j+\"]/div[1]/a\").get_attribute('href')\n",
    "        title = driver.find_element_by_xpath(\"//*[@id='main']/div[4]/section/div/div/div[2]/div[\"+str(i)+\"]/div/div/div/div[1]/div[\"+j+\"]/div[1]/a\").text\n",
    "    urlTmp = url.split('/')\n",
    "    if int(urlTmp[5]) > 2020 :\n",
    "        publishdate = urlTmp[5]+urlTmp[6]+urlTmp[7]\n",
    "    else :\n",
    "        publishdate = urlTmp[4]+urlTmp[5]+urlTmp[6]\n",
    "    \n",
    "    print(i,title,',',publishdate,',',url)\n",
    "    cur.execute('insert into news_daily_source(web, title, publishdate, url, creationdate,language,tag) SELECT * FROM (SELECT %s, %s, %s, %s, %s, %s, %s) AS tmp WHERE NOT EXISTS (SELECT url FROM news_daily_source WHERE url = %s) LIMIT 1',(web, title, publishdate, url, creationdate,language,tag, url))\n",
    "    cur.execute('commit')\n",
    "    #res = requests.get(url)\n",
    "    #res.encoding = 'utf-8'\n",
    "    #print(res.status_code)\n",
    "    #soup = BeautifulSoup(res.text, 'html.parser')\n",
    "    #soup\n",
    "cur.close()\n",
    "conn.close()    \n",
    "driver.close()"
   ]
  },
  {
   "cell_type": "code",
   "execution_count": 13,
   "metadata": {
    "collapsed": true
   },
   "outputs": [
    {
     "name": "stderr",
     "output_type": "stream",
     "text": [
      "C:\\Users\\jacob.liang\\AppData\\Local\\Continuum\\anaconda3\\lib\\site-packages\\ipykernel_launcher.py:12: DeprecationWarning: use options instead of chrome_options\n",
      "  if sys.path[0] == '':\n"
     ]
    },
    {
     "name": "stdout",
     "output_type": "stream",
     "text": [
      "1 신현수, 文대통령 반려에도 사표 또 냈다 , 20210217 , https://www.chosun.com/politics/2021/02/17/EYKVD2LDGNDNHIKIRQQUXT7MSY/\n",
      "2 군 “민통선서 붙잡은 1명, 북한 남성 추정” ‘노크귀순’ 동해 또 뚫려 , 20210216 , https://www.chosun.com/politics/2021/02/16/2HDXNQ4TTVCJJPG5USBGISYFIA/\n",
      "3 리설주 1년여 만에 공개석상…김정은과 기념공연 관람 , 20210217 , https://www.chosun.com/politics/north_korea/2021/02/17/MTTRJ7OG7RB7HFBLN6NOAYOUKM/\n",
      "4 文, 신현수 수석 빼놓고 이광철 비서관과 검찰 인사 , 20210217 , https://www.chosun.com/politics/2021/02/17/SUIFJ6ID7FFVVLGYIPWARUSFYU/\n",
      "5 이번엔 ‘산책 귀순’...22사단 석달 만에 또 뚫려 , 20210217 , https://www.chosun.com/politics/diplomacy-defense/2021/02/17/52Q5DJ46QJG4PCPKKHJF6SR46U/\n",
      "6 이광철, 조국 보좌한 민변 출신… 선거개입 관련 검찰조사 받아 , 20210217 , https://www.chosun.com/politics/blue_house/2021/02/17/AUHCQHX3ARBMXNJ7CQT6XVD3NE/\n",
      "7 조은산, 교황 소환한 이재명·임종석 논쟁에 “한국 일이나 살펴라” [전문] , 20210216 , https://www.chosun.com/politics/politics_general/2021/02/16/ZY6ISRAB5BA3ZMZY7ZEVAO2UII/\n",
      "8 文대통령 딸 다혜씨 “대통령 외손자 방역지침 위반 일절 없다” , 20210216 , https://www.chosun.com/politics/2021/02/16/NU7G5QGXUNEEBLW3NMWLH5NSCI/\n",
      "9 검찰 인사 패싱에 불만... 靑민정수석 사표 던졌다 , 20210216 , https://www.chosun.com/politics/2021/02/16/JCDYZ64MQNAGZOOOLBHJ5Z332I/\n",
      "10 與서도 김명수 사퇴론 터졌다... 박수현 “이 정도 됐으면 물러나야” , 20210216 , https://www.chosun.com/politics/2021/02/16/3JSQ7MPV4ZGCHIHSAUBWDYP6FU/\n",
      "11 국정원 “1년 안 보인 리설주, 아이들과 잘 놀고 있어” , 20210216 , https://www.chosun.com/politics/north_korea/2021/02/16/EW3N5DZALJCH7A24VCHQD4HU3Y/\n",
      "12 신현수, 文정부 첫 검찰출신 민정수석… 盧정부때 靑비서관 지내 , 20210217 , https://www.chosun.com/politics/2021/02/17/Y67GOARZQRG3TKKZ7OA5RRJVXQ/\n",
      "13 文 “1분기 90만개 일자리” 野 “선거앞두고 또” , 20210217 , https://www.chosun.com/politics/2021/02/17/C2LGQAGRZZHRNHXPRBQIJSWUXY/\n",
      "14 박지원 “MB때 국정원 사찰은 불법… 하지만 선거와 연관돼선 안돼” , 20210217 , https://www.chosun.com/politics/2021/02/17/MP2BWTQIBRC55MPVJ36QGD3K2Y/\n",
      "15 국정원 “북한, 코로나 백신·치료제 기술 탈취 시도” , 20210216 , https://www.chosun.com/politics/north_korea/2021/02/16/JMTCA4B2PFHK3H2IRTVIPPDYRI/\n"
     ]
    }
   ],
   "source": [
    "# Politics, 20210215\n",
    "conn = pymysql.connect(host=host, port=port, user=user, passwd=passwd, db=db)\n",
    "cur = conn.cursor()\n",
    "web = 'chosun'\n",
    "language = 'ko'\n",
    "tag = 'politics'\n",
    "targetUrl = 'https://www.chosun.com/politics/'\n",
    "\n",
    "option = webdriver.ChromeOptions()\n",
    "option.add_argument(\"--start-maximized\")\n",
    "#option.add_argument('headless') \n",
    "driver = webdriver.Chrome(r\"D:\\chromedriver.exe\",chrome_options=option)\n",
    "driver.get(targetUrl) \n",
    "creationdate = datetime.now()\n",
    "\n",
    "for i in range(1,16) :\n",
    "    try :\n",
    "        j = '1'\n",
    "        url = driver.find_element_by_xpath(\"//*[@id='main']/div[4]/section/div/div/div[2]/div[\"+str(i)+\"]/div/div/div/div[1]/div[\"+j+\"]/div[1]/a\").get_attribute('href')\n",
    "                                           #//*[@id=\"main\"]/div[4]/section/div/div/div[2]/div[1]         /div/div/div/div[1]/div[1]    /div[1]/a\n",
    "        title = driver.find_element_by_xpath(\"//*[@id='main']/div[4]/section/div/div/div[2]/div[\"+str(i)+\"]/div/div/div/div[1]/div[\"+j+\"]/div[1]/a\").text\n",
    "    except Exception as e:        \n",
    "        j = '2'\n",
    "        url = driver.find_element_by_xpath(\"//*[@id='main']/div[4]/section/div/div/div[2]/div[\"+str(i)+\"]/div/div/div/div[1]/div[\"+j+\"]/div[1]/a\").get_attribute('href')\n",
    "        title = driver.find_element_by_xpath(\"//*[@id='main']/div[4]/section/div/div/div[2]/div[\"+str(i)+\"]/div/div/div/div[1]/div[\"+j+\"]/div[1]/a\").text\n",
    "    urlTmp = url.split('/')\n",
    "    if int(urlTmp[5]) > 2020 :\n",
    "        publishdate = urlTmp[5]+urlTmp[6]+urlTmp[7]\n",
    "    else :\n",
    "        publishdate = urlTmp[4]+urlTmp[5]+urlTmp[6]\n",
    "    \n",
    "    print(i,title,',',publishdate,',',url)\n",
    "    cur.execute('insert into news_daily_source(web, title, publishdate, url, creationdate,language,tag) SELECT * FROM (SELECT %s, %s, %s, %s, %s, %s, %s) AS tmp WHERE NOT EXISTS (SELECT url FROM news_daily_source WHERE url = %s) LIMIT 1',(web, title, publishdate, url, creationdate,language,tag, url))\n",
    "    cur.execute('commit')\n",
    "cur.close()\n",
    "conn.close()    \n",
    "driver.close()"
   ]
  },
  {
   "cell_type": "code",
   "execution_count": 21,
   "metadata": {},
   "outputs": [
    {
     "name": "stderr",
     "output_type": "stream",
     "text": [
      "C:\\Users\\jacob.liang\\AppData\\Local\\Continuum\\anaconda3\\lib\\site-packages\\ipykernel_launcher.py:12: DeprecationWarning: use options instead of chrome_options\n",
      "  if sys.path[0] == '':\n"
     ]
    },
    {
     "name": "stdout",
     "output_type": "stream",
     "text": [
      "1 [단독] 이성윤 중앙지검장 전격 소환 통보... 조사 불응 , 20210217 , https://www.chosun.com/national/court_law/2021/02/17/ADQ27PVWYNGFXJ2FPLF7R37Y34/\n",
      "2 전세계 확진 70% 급감, 희망이 보인다 , 20210217 , https://www.chosun.com/national/welfare-medical/2021/02/17/F6RYOTLZPVEVNPKUPAAAT6LZJM/\n",
      "3 법무부, 이재용에 취업제한 통보...옥중 경영 못할 수도 , 20210217 , https://www.chosun.com/national/court_law/2021/02/17/Q4UUUHBQ65EXPLOWSMUYXH3SRQ/\n",
      "4 60대 얼굴에 ‘4연발 니킥'... 아들뻘 그놈, 모텔에 숨어있었다 , 20210216 , https://www.chosun.com/national/incident/2021/02/16/XAYGQQU22VGIRO6ESDQWWCJ2HQ/\n",
      "5 법원 “대법원 앞 김명수 규탄집회 허용”... 경찰 금지 결정 뒤집었다 , 20210216 , https://www.chosun.com/national/court_law/2021/02/16/GTUK2DL7MBFLXHJ4DS7OMZKMPY/\n",
      "6 “샤워하는 알몸이 훤히...” 그랜드 조선 제주 사우나 논란 , 20210216 , https://www.chosun.com/national/2021/02/16/6PBMK4GXFJFFFLVXODNNFMAROM/\n",
      "7 노래방 꽉 차고 포차 앞 대기줄... 지방 ‘2차’가 살아났다 , 20210216 , https://www.chosun.com/national/national_general/2021/02/16/6CAIZICIVBDITIGDXFFCBLE5LI/\n",
      "8 여교사, 학폭 피해 위로한다며 중학생 성폭행... 징역 3년 선고 , 20210216 , https://www.chosun.com/national/regional/gyeonggi-incheon/2021/02/16/RYOIWEIU2BHW5HKTC6RE7ZCN4U/\n",
      "9 [강인선의 모닝라이브] 위기가 우리에게 주는 선물 , 20210217 , https://www.chosun.com/national/national_general/2021/02/17/IDSJL34DWVFIVI5UF72UXPYUMM/\n",
      "10 내 나이 여든다섯, 누에가 실 뽑듯 끊임없이 썼다 , 20210217 , https://www.chosun.com/national/people/2021/02/17/VKGO4G67DZGQJMV23SRC7ZPAI4/\n",
      "11 흥국생명 감독 “동네배구 아냐”... 쌍둥이 엄마 월권 의혹 부인 , 20210216 , https://www.chosun.com/national/2021/02/16/HQZ3I4USIRCYZP3BIIHQSXRDVQ/\n",
      "12 [단독] 신현수 민정수석 “검사장 인사 논의 때 배제” 토로 , 20210216 , https://www.chosun.com/national/court_law/2021/02/16/2JJ3QMIWGZHGJO7SLVPGIATDZI/\n",
      "13 대법 “파기환송심서 확정 판결 내용까지 심리하면 위법” , 20210217 , https://www.chosun.com/national/court_law/2021/02/17/JORKQQZFKRH2LNJUAZGQR7PZMI/\n",
      "14 “이재영·다영만 하는 배구, 엄마는 코치” 피해 학부모도 폭로 , 20210214 , https://www.chosun.com/national/national_general/2021/02/14/NBUENIGYTFBOZDEGVWRFYRTFPM/\n",
      "15 “훈련 1년 반만에 옆산 통해 도망”... 이재영·다영 학폭 추가 폭로 , 20210214 , https://www.chosun.com/national/2021/02/14/SYZOFJFJTBD6DHKUX6PJUPQFNU/\n"
     ]
    }
   ],
   "source": [
    "# National, 20210215\n",
    "conn = pymysql.connect(host=host, port=port, user=user, passwd=passwd, db=db)\n",
    "cur = conn.cursor()\n",
    "web = 'chosun'\n",
    "language = 'ko'\n",
    "tag = 'national'\n",
    "targetUrl = 'https://www.chosun.com/national/'\n",
    "\n",
    "option = webdriver.ChromeOptions()\n",
    "option.add_argument(\"--start-maximized\")\n",
    "#option.add_argument('headless') \n",
    "driver = webdriver.Chrome(r\"D:\\chromedriver.exe\",chrome_options=option)\n",
    "driver.get(targetUrl) \n",
    "creationdate = datetime.now()\n",
    "\n",
    "for i in range(1,16) :\n",
    "    try :\n",
    "        j = '1'\n",
    "        url = driver.find_element_by_xpath(\"//*[@id='main']/div[4]/section/div/div/div[2]/div[\"+str(i)+\"]/div/div/div/div[1]/div[\"+j+\"]/div[1]/a\").get_attribute('href')\n",
    "                                           #//*[@id=\"main\"]/div[4]/section/div/div/div[2]/div[1]         /div/div/div/div[1]/div[1]    /div[1]/a\n",
    "        title = driver.find_element_by_xpath(\"//*[@id='main']/div[4]/section/div/div/div[2]/div[\"+str(i)+\"]/div/div/div/div[1]/div[\"+j+\"]/div[1]/a\").text\n",
    "    except Exception as e:        \n",
    "        j = '2'\n",
    "        url = driver.find_element_by_xpath(\"//*[@id='main']/div[4]/section/div/div/div[2]/div[\"+str(i)+\"]/div/div/div/div[1]/div[\"+j+\"]/div[1]/a\").get_attribute('href')\n",
    "        title = driver.find_element_by_xpath(\"//*[@id='main']/div[4]/section/div/div/div[2]/div[\"+str(i)+\"]/div/div/div/div[1]/div[\"+j+\"]/div[1]/a\").text\n",
    "    urlTmp = url.split('/')    \n",
    "    publishdate = urlTmp[len(urlTmp)-5]+urlTmp[len(urlTmp)-4]+urlTmp[len(urlTmp)-3]    \n",
    "    print(i,title,',',publishdate,',',url)\n",
    "    cur.execute('insert into news_daily_source(web, title, publishdate, url, creationdate,language,tag) SELECT * FROM (SELECT %s, %s, %s, %s, %s, %s, %s) AS tmp WHERE NOT EXISTS (SELECT url FROM news_daily_source WHERE url = %s) LIMIT 1',(web, title, publishdate, url, creationdate,language,tag, url))\n",
    "    cur.execute('commit')\n",
    "cur.close()\n",
    "conn.close()    \n",
    "driver.close()"
   ]
  }
 ],
 "metadata": {
  "kernelspec": {
   "display_name": "Python 3",
   "language": "python",
   "name": "python3"
  },
  "language_info": {
   "codemirror_mode": {
    "name": "ipython",
    "version": 3
   },
   "file_extension": ".py",
   "mimetype": "text/x-python",
   "name": "python",
   "nbconvert_exporter": "python",
   "pygments_lexer": "ipython3",
   "version": "3.7.0"
  }
 },
 "nbformat": 4,
 "nbformat_minor": 2
}
