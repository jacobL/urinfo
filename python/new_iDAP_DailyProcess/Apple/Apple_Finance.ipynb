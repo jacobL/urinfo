{
 "cells": [
  {
   "cell_type": "code",
   "execution_count": 3,
   "metadata": {},
   "outputs": [
    {
     "name": "stdout",
     "output_type": "stream",
     "text": [
      "503\n"
     ]
    }
   ],
   "source": [
    "#############################################\n",
    "# 網站名稱：蘋果日報\n",
    "# 網址： https://tw.appledaily.com/realtime/property/\n",
    "# 爬取類型： 財經地產\n",
    "# 爬取範圍： 今日、昨日\n",
    "#############################################\n",
    "\n",
    "import pymysql\n",
    "from datetime import datetime, timedelta\n",
    "from bs4 import BeautifulSoup\n",
    "import requests\n",
    "\n",
    "\n",
    "def WebCrawling():\n",
    "    host = '10.55.23.101'\n",
    "    port = 33060\n",
    "    host = '127.0.0.1'\n",
    "    port = 3306\n",
    "    user = 'root'\n",
    "    passwd = \"1234\"\n",
    "    db = 'idap'\n",
    "    web = \"Apple_Finance\" \n",
    "    tag = \"Finance\"\n",
    "    \n",
    "    conn = pymysql.connect(host=host, port=port,\n",
    "                           user=user, passwd=passwd, db=db)\n",
    "    cur = conn.cursor()\n",
    "\n",
    "    baseUrl = 'https://tw.appledaily.com'\n",
    "    targetUrl = 'https://tw.appledaily.com/pf/api/v3/content/fetch/query-feed?query=%7B%22feedOffset%22%3A0%2C%22feedQuery%22%3A%22taxonomy.primary_section._id%3A%5C%22%2Frealtime%2Fproperty%5C%22%2BAND%2Btype%3Astory%2BAND%2Bdisplay_date%3A%5Bnow-200h%2Fh%2BTO%2Bnow%5D%2BAND%2BNOT%2Btaxonomy.tags.text.raw%3A_no_show_for_web%2BAND%2BNOT%2Btaxonomy.tags.text.raw%3A_nohkad%22%2C%22feedSize%22%3A100%2C%22sort%22%3A%22display_date%3Adesc%22%7D&d=180&_website=tw-appledaily'\n",
    "\n",
    "    res = requests.get(targetUrl)\n",
    "    res.encoding = 'utf-8'\n",
    "    print(res.status_code)\n",
    "    if res.status_code == 200:\n",
    "        result_json = res.json()\n",
    "        news = result_json['content_elements']\n",
    "        for new in news:\n",
    "            title = new['headlines']['basic']\n",
    "            url = baseUrl + new['canonical_url']\n",
    "            publishdate = new['display_date'][0:10].replace('-', '')\n",
    "            if publishdate < (datetime.today() - timedelta(days=1)).strftime('%Y%m%d'):\n",
    "                return\n",
    "\n",
    "            creationdate = datetime.now()\n",
    "            content = ''\n",
    "\n",
    "            contentres = requests.get(url)\n",
    "            contentres.encoding = 'utf-8'\n",
    "            if contentres.status_code == 200:\n",
    "                contentsoup = BeautifulSoup(contentres.text, 'html.parser')\n",
    "                content = contentsoup.select('div#articleBody')[0].text.strip()\n",
    "                contentres.close()\n",
    "\n",
    "            print(\"============================================================\")\n",
    "            print(publishdate, title, url, content, creationdate)\n",
    "            print(\"============================================================\")\n",
    "\n",
    "            # cur.execute('insert ignore into news(web, title, content, publishdate, url, creationdate)values(%s, %s, %s, %s, %s, %s)',\n",
    "            #             (web, title, content, publishdate, url, creationdate))\n",
    "            # cur.execute('commit')\n",
    "\n",
    "    res.close()\n",
    "    cur.close()\n",
    "    conn.close()\n",
    "\n",
    "\n",
    "if __name__ == \"__main__\":\n",
    "    host = 'pc89600059495s'\n",
    "    port = 33060\n",
    "    user = 'root'\n",
    "    passwd = \"1234\"\n",
    "    db = 'idap'\n",
    "\n",
    "    web = \"蘋果日報\"\n",
    "\n",
    "    WebCrawling()\n"
   ]
  },
  {
   "cell_type": "code",
   "execution_count": null,
   "metadata": {},
   "outputs": [],
   "source": []
  }
 ],
 "metadata": {
  "kernelspec": {
   "display_name": "Python 3",
   "language": "python",
   "name": "python3"
  },
  "language_info": {
   "codemirror_mode": {
    "name": "ipython",
    "version": 3
   },
   "file_extension": ".py",
   "mimetype": "text/x-python",
   "name": "python",
   "nbconvert_exporter": "python",
   "pygments_lexer": "ipython3",
   "version": "3.7.0"
  }
 },
 "nbformat": 4,
 "nbformat_minor": 2
}
