{
 "cells": [
  {
   "cell_type": "code",
   "execution_count": 10,
   "metadata": {},
   "outputs": [],
   "source": [
    "from bs4 import BeautifulSoup\n",
    "import requests\n",
    "import pymysql\n",
    "from datetime import datetime, timedelta,timezone\n",
    "from google_trans_new import google_translator\n",
    "import time\n",
    "import random\n",
    "baseUrl = 'https://www.ft.com'\n",
    "InitUrl = 'https://www.ft.com/companies'\n",
    "\n"
   ]
  },
  {
   "cell_type": "code",
   "execution_count": 14,
   "metadata": {},
   "outputs": [
    {
     "name": "stdout",
     "output_type": "stream",
     "text": [
      "Court told UBS it could not rely on legal privilege to keep report on alleged rape private /content/a072c9af-325f-41cc-9c4c-69bc44e15b50 \n",
      "\n",
      "New Zealand-Australia ‘travel bubble’ lays groundwork for airlines’ recovery /content/673e45bb-c8dd-42df-82f3-8a27c721e2cf \n",
      "\n",
      "Liberty Steel’s Scottish plant misses interest payments /content/7550b423-4d90-4d09-b96c-8f8f3c4674b8 \n",
      "\n",
      "Easy money might be over in US mortgage banking boom  /content/40d2ac3c-d6cb-4e22-b5ea-dbbda240057c \n",
      "\n",
      "SpaceX wins $2.9bn Nasa contract to land Americans on the moon /content/291693b1-52a3-4867-97f4-8047d5c39a4e \n",
      "\n",
      "Morgan Stanley reports $911m Archegos losses /content/b589c3f5-9175-4572-bb7e-02ad17e414c1 \n",
      "\n",
      "Coinbase listing is a lament for some bitcoin believers  /content/ba47468b-ddb8-4740-af63-d5629ca8364e \n",
      "\n",
      "City regulation: robocops can create post-Brexit advantage /content/43719e88-7e42-4d12-9319-0714b0a0cac0 \n",
      "\n",
      "Hainan ‘on fire’ as luxury’s centre of gravity tilts to China /content/12c7b3cc-b757-4088-b49c-064c290b4ad5 \n",
      "\n",
      "How Covid is driving an unlikely renaissance of the British retail park /content/92234e27-a5ae-44e5-a07c-69caaa2d0034 \n",
      "\n",
      "Rush for carbon credits spurs surge in power company schemes /content/93cb7744-529d-4c74-bbb8-5a9bc8d6b321 \n",
      "\n",
      "Greensill Capital /content/a6d578c4-9a57-4375-b7b2-c88d4b7cc21f \n",
      "\n",
      "Data rich: the numbers behind corporate news /content/4f624ffb-8f5e-41b9-84d9-27d36ce9060b \n",
      "\n",
      "Unusual activity: Darktrace’s conflicting accounts on Mike Lynch /content/56ccce4f-abac-4935-a3f4-22c71020ba0f \n",
      "\n",
      "Inside Wirecard /wirecard \n",
      "\n",
      "FT 1000: Europe’s Fastest Growing Companies /reports/europes-fastest-growing-companies \n",
      "\n",
      "Hainan ‘on fire’ as luxury’s centre of gravity tilts to China /content/12c7b3cc-b757-4088-b49c-064c290b4ad5 \n",
      "\n",
      "UK banks exclude new homes from low-deposit mortgage scheme  /content/e921a438-3532-4ddf-8f5b-06113cf3f762 \n",
      "\n",
      "Pipeline pressure and Elliott’s stake have GSK in a spin  /content/f135e584-bda2-47ad-a414-38346abaec04 \n",
      "\n",
      "EY’s Wirecard audits suffered serious shortcomings, German probe finds /content/abd89375-3fa1-4457-abd6-b3e3231ba339 \n",
      "\n",
      "Cameron pitched Greensill’s services to German government official /content/7bed418b-d4c3-4ad4-b07e-10c7fd83dac4 \n",
      "\n",
      "Cult Shop: Summerill and Bishop, a tablescaper’s heaven /content/29c81ca2-231c-42e4-b14a-1e187af7b9eb \n",
      "\n",
      "UK pubs and restaurants warn of staff shortages /content/f999d75d-f6ff-44e3-a20b-5281f849714b \n",
      "\n",
      "EY’s Wirecard audits suffered serious shortcomings, German probe finds /content/abd89375-3fa1-4457-abd6-b3e3231ba339 \n",
      "\n",
      "Mexicans head for US in hunt for Covid jab /content/b0431bec-5a01-4772-a4fa-1643a7bc18b3 \n",
      "\n",
      "Chewy cashed in on pandemic pet boom but now must keep leash on Amazon /content/2aa2dafc-2b98-4685-85f7-ffcbc0dd86f8 \n",
      "\n",
      "Hooray for the new Hollywood  /content/4c7fb358-173a-4572-9de1-749cf37e4f73 \n",
      "\n",
      "Fed urges Texas to ‘winterise’ grid after $130bn storm damage /content/3f1d18cf-9af0-4533-8570-492acf2d755b \n",
      "\n",
      "UK banks exclude new homes from low-deposit mortgage scheme  /content/e921a438-3532-4ddf-8f5b-06113cf3f762 \n",
      "\n",
      "A note of crypto caution /content/8d9ee2f8-831f-4548-87fa-9a640bd5d8b2 \n",
      "\n",
      "China’s consumers power recovery at home and abroad /content/4eaf3570-b86a-4f81-be68-3b0c3ac46ff9 \n",
      "\n",
      "Pregnant women can receive Covid vaccine, say UK health chiefs /content/8d81f095-0885-4a55-be69-49cf617eca45 \n",
      "\n",
      "India shows the way for English cricket /content/121d6d5b-b4fa-4824-8215-412f7ee8c181 \n",
      "\n",
      "Investors’ Chronicle: JD Sports, Oxford BioMedica, Tesco /content/e3b0b6b8-fb33-4de9-a61d-fb0e97d051b3 \n",
      "\n",
      "Cameron pitched Greensill’s services to German government official /content/7bed418b-d4c3-4ad4-b07e-10c7fd83dac4 \n",
      "\n",
      "UK finds more cases of variant linked to severe second wave in India /content/a55eb7aa-518a-4e3a-932b-9294314b76e0 \n",
      "\n",
      "Earnings beats: lukewarm reaction shows prices are stretched /content/f527de6a-c273-4f02-aeaa-7fe0e78bd984 \n",
      "\n",
      "UK aerospace industry raises alarm over pause in R&D state funding /content/013a6d46-76db-4734-ba9c-ac7d9d192c33 \n",
      "\n",
      "Man Group/hedge funds: momentous times give quants a reset /content/9dbe193d-fbad-480d-b9b7-b790ae12d212 \n",
      "\n",
      "Biden administration to allocate $1.7bn to target Covid variants /content/4b012451-a90c-45ee-b88b-1cc0ce716a49 \n",
      "\n",
      "Turkey bans crypto payments for goods and services /content/449f8ac5-be7b-4d50-b01d-fe5314109d6f \n",
      "\n",
      "No time to cool your jets: the risk takers who see the aviation crisis as just a blip /content/f28c6bbc-0ac6-4d35-84a0-864bea8596c1 \n",
      "\n",
      "Church’s price hike: cobblers or canny?  /content/8bd46e3f-cbd2-4f09-8d87-b33ccc46e626 \n",
      "\n",
      "Businesses in England say £5bn restart grants not paid in time for reopening  /content/6959e196-0872-44a8-b76b-32ccf536a204 \n",
      "\n",
      "Reclaim our cities from the SUV army /content/552b37dd-0d86-403c-ba50-af793049799b \n",
      "\n",
      "Best of Lex: wealthy winners take all in the pandemic /content/794951d1-4d69-4b91-afdb-4d99b917ae38 \n",
      "\n"
     ]
    }
   ],
   "source": [
    "InitUrl = 'https://www.ft.com/companies'\n",
    "res = requests.get(InitUrl)\n",
    "soup = BeautifulSoup(res.text, 'html.parser')\n",
    "newsList = soup.select(\"a.js-teaser-heading-link\")\n",
    "for i in range(0, len(newsList)) :\n",
    "    url = newsList[i].get('href')\n",
    "    title = newsList[i].text\n",
    "    print(title,url,'\\n')"
   ]
  },
  {
   "cell_type": "code",
   "execution_count": 11,
   "metadata": {},
   "outputs": [
    {
     "data": {
      "text/plain": [
       "'Court told UBS it could not rely on legal privilege to keep report on alleged rape private'"
      ]
     },
     "execution_count": 11,
     "metadata": {},
     "output_type": "execute_result"
    }
   ],
   "source": [
    "# https://www.ft.com/content/b589c3f5-9175-4572-bb7e-02ad17e414c1\n",
    "newsList[0].get('href')\n",
    "newsList[0].text\n",
    "#len(newsList)"
   ]
  }
 ],
 "metadata": {
  "kernelspec": {
   "display_name": "Python 3",
   "language": "python",
   "name": "python3"
  },
  "language_info": {
   "codemirror_mode": {
    "name": "ipython",
    "version": 3
   },
   "file_extension": ".py",
   "mimetype": "text/x-python",
   "name": "python",
   "nbconvert_exporter": "python",
   "pygments_lexer": "ipython3",
   "version": "3.7.0"
  }
 },
 "nbformat": 4,
 "nbformat_minor": 2
}
